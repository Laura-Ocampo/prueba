{
 "cells": [
  {
   "cell_type": "code",
   "execution_count": 6,
   "id": "aade50d7",
   "metadata": {},
   "outputs": [],
   "source": [
    "import pandas as pd\n",
    "import numpy as np\n",
    "from scipy.stats import poisson\n",
    "from scipy.linalg import norm\n",
    "import matplotlib.pyplot as plt\n",
    "from pulp import LpMaximize, LpProblem, LpStatus, LpVariable, LpAffineExpression\n",
    "import requests"
   ]
  },
  {
   "cell_type": "markdown",
   "id": "8d9ff754",
   "metadata": {},
   "source": [
    "# Data Science Challenge\n",
    "Candidata: Laura Camila Ocampo"
   ]
  },
  {
   "cell_type": "markdown",
   "id": "d3c903f1",
   "metadata": {},
   "source": [
    "## Introducción al problema"
   ]
  },
  {
   "cell_type": "markdown",
   "id": "3ac1da34",
   "metadata": {},
   "source": [
    "### Idea general"
   ]
  },
  {
   "cell_type": "markdown",
   "id": "f69b95a6",
   "metadata": {},
   "source": [
    "Se quiere diseñar un proceso de abastecimiento mensual de unidades de una portafilio de productos, de forma que se maximicen las ganancias después de costos operativos, esto teniendo en cuenta que no poder satisfacer la demanda implica una costo de oportunidad muy alto dependiendo del comportamiento aleatorio de la demanda de cada bien. \n",
    "Con este fin proponemos, en términos superficiales, el siguiente modelo\n",
    "\n",
    "1. ***Optimización individual:*** \n",
    "Para cada ítem calcular el nivel mínimo de inventario que debe tener utilizando una estimación de las ventas diarias esperadas $\\mu$. \n",
    "2. **Optimización conjunta**\n",
    "Teniendo los precios $p_i$, los niveles actuales de inventario disponible $s_i$ y los niveles mìnimos de inventario $\\sigma_i$ de cada producto $i$, resolvemos el siguiente Programa Lineal con restricciones enteras mixtas(MILP).\n",
    "\n",
    "$$ (\\mathcal{I})  \\begin{cases} \\; \\begin{array} &\\operatorname{max}_{a\\in \\mathbb{R}^P} & \\sum^n_{i=1} \\mu_i p_i( a_i+s_i) \\\\ \\text{s.a.} & \\sum_{i=1}^P (s_i+a_i)\\leq M_{TOTAL}  \\\\&a_i\\in \\{\\sigma_i,\\sigma_i+1,\\sigma_i+2\\cdots\\} \\end{array}   \\end{cases}$$\n",
    "\n",
    "lo cual nos va a indicar cuánta cantidad $a_i$ comprar del ítem $i$.\n",
    "\n",
    "### Detalles de optimización individual\n",
    "\n",
    "En la optimización individual queremos generar una política óptima de inventario para un solo bien. Estas políticas siempre son de la siguiente forma\n",
    "\n",
    "$$\\pi(\\text{inventario })=\\begin{cases} \\text{Compre } \\Sigma-\\text{inventario }  \\text{unidades}  & \\text{inventario }\\leq \\sigma \\\\\n",
    "\\text{No compre nada} & \\text{inventario }> \\sigma  \\end{cases}$$\n",
    "\n",
    "es decir, esas políticas óptimas están parametrizadas por unos niveles máximos y mínimos de inventario. Tenemos interés en encontrar ese nivel de inventario mínimo óptimo para cada item.\n",
    "\n",
    "Para esto modelaremos el proceso de inventarios como un Proceso de Decisión de Markov y con este fin estableceremos la siguiente notación: \n",
    "\n",
    "Asumimos que ningún ítem puede superar las $M$ unidades almacenadas en bodega.\n",
    "\n",
    "Al inicio de cada etapa de tiempo (en nuestro caso asumiremos un día) $t\\in\\{1,2,\\cdots\\}$ se tiene un nivel de inventario aleatoreo \n",
    "$$S_t\\in S:=\\{0,\\cdots,M\\}$$\n",
    "ante el cual debemos tomar la decisión de cuántas unidades  $$a_t\\in\\mathcal{A}(S_t):= \\{0,1,\\cdots,M-S_t\\}$$ de inventario adquirir.\n",
    "\n",
    "Como queremos satisfacer la demanda $D_t$ de este bien en el día $t$, podemos asumir que las unidades en inventario al siguiente mes están dadas por \n",
    "$$S_{t+1}=\\max\\{0,S_t+a_t-D_t\\}.$$\n",
    "Para hablar de ganancias y costos operativos, sean $K$ los costos fijos y $c(u)$ los costos variables de adquirir $u$ unidades del bien. De esta forma, el valor del costo de ordenar $u$ unidades de producto va a estar dado por \n",
    "$$O(u):=\\begin{cases}K+c(u)&u>0\\\\0&u=0\\end{cases}.$$\n",
    "Vamos a asumir que los únicos costos además de los de adquisición, son los de bodegaje (costo de mantener $u$ unidades de inventario en bodega) dados por $h(u)$. Finalmente, las ganancias por vender $j$ unidades son $f(j)$ si $j\\leq S_t+a_t$ y $f\\left(S_t+a_t\\right) $ de lo contrario.\n",
    "\n",
    "\n",
    "Así pues las ganacias después de costos operativos van a estar dadas por \n",
    "$$r_t(s,a,S_{t+1})=f(s+a-S_{t+1})-O(s)-h(s+a)$$\n",
    "que implica que \n",
    "\\begin{align}r_t(s,a):= &E[r_t(s,a,S_{t+1})]=E[f(s+a-S_{t+1})]-O(a)-h(s+a)\\\\\n",
    "                                            \\quad \\\\\n",
    "                &=\\sum_{k=0}^{\\infty}f(k)\\Pr(s+a+S_{t+1}=k)-O(a)-h(s+a)\\\\\n",
    "                \\quad \\\\\n",
    "                &=f(s+a)\\Pr\\left(S_{t+1}=0\\right)+\\sum_{j<s+a}f(j)\\Pr\\left(D_t=j\\right)-O(a)-h(s+a)\\\\\n",
    "                &=f(s+a)\\sum_{j\\geq s+a}\\Pr\\left(D_t=j\\right)+\\sum_{j<s+a}f(j)\\Pr\\left(D_t=j\\right)-O(a)-h(s+a)\\\\\n",
    "                &=f(s+a)\\Pr(D_t\\geq s+a) + \\sum_{j<s+a}f(j)\\Pr\\left(D_t=j\\right)-O(a)-h(s+a) \\\\\n",
    "                &=\\underbrace{f(s+a)(1-\\Pr(D_t\\leq s+a-1))+\\sum_{j<s+a}f(j)\\Pr\\left(D_t=j\\right)}_{F(s+a):=} -O(a)-h(s+a)\n",
    "                \\end{align}\n",
    "\n",
    "Con lo anterior ya tendríamos espacio de estados, acciones y recompensas. Para tener un proceso de decisión de Markov restaría tener solo las probabilidades de transición que van a estar dadas por\n",
    "$$\\Pr(j|s,a):=\\begin{cases}0 & j>s+a\\\\  \\Pr\\left(D_t=s+a-j\\right) &s+a\\geq j>0 \\\\  1-\\Pr\\left(D_t\\leq s+a-1\\right) & j=0 \\end{cases}$$"
   ]
  },
  {
   "cell_type": "markdown",
   "id": "70b7cc77",
   "metadata": {},
   "source": [
    "## Código y resultados numéricos"
   ]
  },
  {
   "cell_type": "markdown",
   "id": "954230ea",
   "metadata": {},
   "source": [
    "### Funciones básicas y variables globales necesarias"
   ]
  },
  {
   "cell_type": "code",
   "execution_count": 7,
   "id": "111e9fb8",
   "metadata": {},
   "outputs": [],
   "source": [
    "K=2\n",
    "L=0.9\n",
    "M=20\n",
    "#Ganancias\n",
    "def f(inventory_level,item_price):\n",
    "    \"\"\"Calcula ganancias por vender s unidades a un precio p\"\"\"\n",
    "    return item_price*inventory_level*0.01\n",
    "#Costo variable por orden\n",
    "def c(inventory_level):\n",
    "    \"\"\"Calcula costo por vender s unidades\"\"\"\n",
    "    return 2*inventory_level\n",
    "#Costo de bodegaje\n",
    "def h(inventory_level):\n",
    "    \"\"\"Costo por almacenar s unidades\"\"\"\n",
    "    return inventory_level\n",
    "#Costo de orden\n",
    "def O(inventory_level):\n",
    "    \"\"\"Costo por vender s unidades más costos fijos\"\"\"\n",
    "    if inventory_level==0:\n",
    "        cost=0\n",
    "    elif inventory_level>0:\n",
    "        cost= K + c(inventory_level)\n",
    "    else:\n",
    "        raise Exception(\"Inventory level should be non-negative\")\n",
    "    return cost"
   ]
  },
  {
   "cell_type": "code",
   "execution_count": 8,
   "id": "947805e2",
   "metadata": {},
   "outputs": [],
   "source": [
    "#Recompensas\n",
    "#Para hacer más fácil la escritura de puntos a continuación\n",
    "#Voy a establecer que cuando a no es un estado admisible\n",
    "#i.e. s+a>M, entonces r(s,a)=-infty"
   ]
  },
  {
   "cell_type": "code",
   "execution_count": 9,
   "id": "9448dacc",
   "metadata": {},
   "outputs": [],
   "source": [
    "def r(inventory_level,inventory_adquisition,mu_item,price_item):\n",
    "    \"\"\"Función de recompensa del proceso de decisión de markov\"\"\"\n",
    "    if inventory_level+inventory_adquisition<=M:\n",
    "        ganancias_brutas=f(inventory_level+inventory_adquisition,price_item)*(\n",
    "        1-poisson.cdf(inventory_level+inventory_adquisition-1,mu_item))+sum(\n",
    "        f(j,price_item)*poisson.pmf(j,mu_item) for j in range(\n",
    "        inventory_level+inventory_adquisition))\n",
    "        reward= ganancias_brutas-O(inventory_adquisition)-h(inventory_level+inventory_adquisition)\n",
    "    else:\n",
    "        reward =-np.inf\n",
    "    return reward"
   ]
  },
  {
   "cell_type": "code",
   "execution_count": 10,
   "id": "8af6e5cc",
   "metadata": {},
   "outputs": [],
   "source": [
    "#Probabilidades de transición\n",
    "def p(next_inventory_level,inventory_level,inventory_adquisition,mu_item):\n",
    "    \"\"\"Función de probabilidades de transición\"\"\"\n",
    "    if (next_inventory_level>inventory_level+inventory_adquisition) or (\n",
    "    inventory_level+inventory_adquisition>M) :\n",
    "        transition_probability= 0\n",
    "    elif inventory_level+inventory_adquisition>=next_inventory_level>0:\n",
    "        transition_probability= poisson.pmf(\n",
    "        inventory_level+inventory_adquisition-next_inventory_level,mu_item)\n",
    "    elif next_inventory_level==0:\n",
    "        transition_probability= 1-poisson.cdf(inventory_level+inventory_adquisition-1,mu_item)\n",
    "    return transition_probability"
   ]
  },
  {
   "cell_type": "markdown",
   "id": "bd056984",
   "metadata": {},
   "source": [
    "### Adquisición de datos"
   ]
  },
  {
   "cell_type": "code",
   "execution_count": 11,
   "id": "69a8edf8",
   "metadata": {},
   "outputs": [],
   "source": [
    "cats = requests.get('https://api.mercadolibre.com/sites/MLA/categories')\n",
    "category_list=cats.json()\n",
    "for category in category_list:\n",
    "    cat_id=category['id']\n",
    "    url = f'https://api.mercadolibre.com/sites/MLA/search?category={cat_id}'\n",
    "    request = requests.get(url)\n",
    "    num_registros = request.json()['paging']['total']\n",
    "    category['num_registros']=num_registros"
   ]
  },
  {
   "cell_type": "markdown",
   "id": "4e20e3d7",
   "metadata": {},
   "source": [
    "Obtener los primeros $N$ ítems para cada categoría"
   ]
  },
  {
   "cell_type": "code",
   "execution_count": 12,
   "id": "854e9550",
   "metadata": {},
   "outputs": [],
   "source": [
    "N=50"
   ]
  },
  {
   "cell_type": "code",
   "execution_count": 13,
   "id": "0752ee12",
   "metadata": {},
   "outputs": [
    {
     "name": "stdout",
     "output_type": "stream",
     "text": [
      "Accesorios para Vehículos\n",
      "Agro\n",
      "Alimentos y Bebidas\n",
      "Animales y Mascotas\n",
      "Antigüedades y Colecciones\n",
      "Arte, Librería y Mercería\n",
      "Autos, Motos y Otros\n",
      "Bebés\n",
      "Belleza y Cuidado Personal\n",
      "Cámaras y Accesorios\n",
      "Celulares y Teléfonos\n",
      "Computación\n",
      "Consolas y Videojuegos\n",
      "Construcción\n",
      "Deportes y Fitness\n",
      "Electrodomésticos y Aires Ac.\n",
      "Electrónica, Audio y Video\n",
      "Entradas para Eventos\n",
      "Herramientas\n",
      "Hogar, Muebles y Jardín\n",
      "Industrias y Oficinas\n",
      "Inmuebles\n",
      "Instrumentos Musicales\n",
      "Joyas y Relojes\n",
      "Juegos y Juguetes\n",
      "Libros, Revistas y Comics\n",
      "Música, Películas y Series\n",
      "Ropa y Accesorios\n",
      "Salud y Equipamiento Médico\n",
      "Servicios\n",
      "Souvenirs, Cotillón y Fiestas\n",
      "Otras categorías\n"
     ]
    }
   ],
   "source": [
    "lista_tablas_categorias=[]\n",
    "for category in category_list:\n",
    "    num_registros=min([category['num_registros'],N])\n",
    "    lista_tablas_categoria=[]\n",
    "    cat_id=category['id']\n",
    "    for offset in range(num_registros//50):\n",
    "        url = f'https://api.mercadolibre.com/sites/MLA/search?category={cat_id}&offset={50*offset}'\n",
    "        request = requests.get(url)\n",
    "        items = request.json()\n",
    "        lista_filas=[\n",
    "        {k:v for k,v in row.items() if not isinstance(v, dict) and not  isinstance(v, list) }\n",
    "        for row in items['results']\n",
    "\n",
    "        ]\n",
    "\n",
    "        df=pd.DataFrame([ a for a in lista_filas if len(a.keys())==29])\n",
    "        lista_tablas_categoria.append(df)\n",
    "\n",
    "    tabla_categoria=pd.concat(lista_tablas_categoria)\n",
    "    print(category['name'])\n",
    "    tabla_categoria['category']= category['name']\n",
    "    lista_tablas_categorias.append(tabla_categoria)"
   ]
  },
  {
   "cell_type": "code",
   "execution_count": 14,
   "id": "afcff8ee",
   "metadata": {},
   "outputs": [],
   "source": [
    "items_df=pd.concat(lista_tablas_categorias)"
   ]
  },
  {
   "cell_type": "markdown",
   "id": "113d1b7e",
   "metadata": {},
   "source": [
    "Por cada item_id único obtenemos información relativa al inventario necesaria"
   ]
  },
  {
   "cell_type": "code",
   "execution_count": 16,
   "id": "363b06b7",
   "metadata": {},
   "outputs": [],
   "source": [
    "unique_items=items_df.id.unique()\n",
    "\n",
    "inventory_details=[\n",
    "    requests.get(f\"https://api.mercadolibre.com/items/{item_id}\".format(item_id=item_id))\n",
    "    for item_id in unique_items\n",
    "]"
   ]
  },
  {
   "cell_type": "code",
   "execution_count": 17,
   "id": "b936881b",
   "metadata": {},
   "outputs": [],
   "source": [
    "inventory_jsons=[item.json() for item in inventory_details ]\n",
    "\n",
    "inventory_df=pd.DataFrame(inventory_jsons)"
   ]
  },
  {
   "cell_type": "markdown",
   "id": "d41a8d72",
   "metadata": {},
   "source": [
    "### Sugerencia de abastecimiento  para cada ítem (optimización individual)"
   ]
  },
  {
   "cell_type": "markdown",
   "id": "e3ee56d8",
   "metadata": {},
   "source": [
    "En esta sección encontraremos el nivel de inventario mínimo óptimo para cada ítem $\\sigma_i$ usando la estimación $\\mu_i$.\n",
    "\n",
    "Para cada ítem vamos a realizar las siguientes hipótesis\n",
    "* $M=20$ \n",
    "* $D_t\\sim \\operatorname{Poisson}(\\mu)$ para algún $\\mu$   que vamos a estimar con los datos de entrada.\n",
    "* $c(s)= s*2$ i.e. asumimos que a pesar de que Mercado Libre no paga nada por la mercancía en bodega si incurre en algún costo (en pesos colombianos) por adquirir usuarios que publiquen en la página. \n",
    "* $h(s)=s$, \n",
    "* $K=2$, \n",
    "* $f(s)=0.1*price*s$  i.e asumimos que Mercado Libre gana 10% de cada venta que se realiza por la página\n",
    "\n",
    "Todas estas hipótesis son sencillamente modificables en el código y sirven como un punto de partida básico para que se de a entender la dinámica de mi propuesta de solución al problema. De manera que por ingenuas o desinfomradas que parezcan las hipótesis, no afectan la calidad de la solución del reto."
   ]
  },
  {
   "cell_type": "markdown",
   "id": "2c89cbc8",
   "metadata": {},
   "source": [
    "#### Estimación de la media para cada ítem"
   ]
  },
  {
   "cell_type": "code",
   "execution_count": 19,
   "id": "1f302f30",
   "metadata": {},
   "outputs": [],
   "source": [
    "inventory_df=inventory_df.astype({'start_time':'datetime64[ns]',\n",
    "                                 'stop_time':'datetime64[ns]',\n",
    "                                 'initial_quantity': 'float64',\n",
    "                                 'available_quantity':'float64',\n",
    "\n",
    "                                  })"
   ]
  },
  {
   "cell_type": "code",
   "execution_count": 20,
   "id": "2d18fe0b",
   "metadata": {},
   "outputs": [],
   "source": [
    "inventory_df['stop_time_truncated']=np.where(inventory_df['stop_time']<=pd.to_datetime('today'),\n",
    "                                             inventory_df['stop_time'],\n",
    "                                             pd.to_datetime('today')\n",
    "                                             )\n",
    "\n",
    "inventory_df['elapsed_days']=(inventory_df['stop_time_truncated']-inventory_df[\n",
    "'start_time']).dt.days\n",
    "inventory_df['expected_daily_sales']=(inventory_df['initial_quantity']-inventory_df[\n",
    "'available_quantity']) /inventory_df['elapsed_days']\n"
   ]
  },
  {
   "cell_type": "markdown",
   "id": "11f0de4a",
   "metadata": {},
   "source": [
    "#### Iteración por valor"
   ]
  },
  {
   "cell_type": "markdown",
   "id": "d5524ca8",
   "metadata": {},
   "source": [
    "Como modelamos el problema como un proceso de decisión markoviano, podemos implementar cualquier algoritmo disponible para encontrar políticas óptimas en este tipo de procesos.\n",
    "\n",
    "En esta ocasión vamos a utilizar el algoritmo de Value Iteration que consiste en caracterizar la solución óptima (la política de abastecimiento óptima) como un punto fijo de determinada función, el cual se puede aproximar sencillamente iterando esa función varias veces.\n",
    "\n",
    "A pesar de que nuestra solución aproximada podemos garantizar que es bastante cercana (más cerca que un parámetro de entrada $ɛ>0$ a la solución verdadera)"
   ]
  },
  {
   "cell_type": "markdown",
   "id": "843fc8ec",
   "metadata": {},
   "source": [
    "Antes vamos a hacer una justificación matemática del codigo a continuación. Necesitamos encontrar un punto fijo $v$ de \n",
    "$$ \\mathcal{L}v(s):=\\max_{a}\\{r(s,a)+\\lambda\\sum_{j=0}^M p(j|s,a)v(j)\\} $$\n",
    "\n",
    "Defina\n",
    "\n",
    "$$ P_{sa}:=\\begin{pmatrix} p(0|s,a)\\\\ p(1|s,a) \\\\ \\vdots \\\\ p(M|s,a) \\end{pmatrix} \\quad \\text{y} \\quad r_s:=\\begin{pmatrix} r(s,0)\\\\ r(s,1) \\\\ \\vdots \\\\ r(s,M) \\end{pmatrix}$$\n",
    "\n",
    "Si $P_s\\in \\mathbb{R}^{(M+1)\\times (M+1)}$ es la matriz cuya fila $a$ es $ P_{sa}$ entonces \n",
    "$$ \\mathcal{L}v(s)= \\max \\left( r(s)+\\lambda P_s v \\right) $$\n",
    "donde el máximo es tomado componente a componente. \n",
    "\n",
    "\n",
    "Finalmente, si defino $w_s:=r(s)+\\lambda P_s v$ y para una matriz $X$ defino $\\max X \\in \\mathbb{R}^{(M+1)\\times 1} $ como el máximo en cada fila, obtengo que \n",
    "\n",
    "$$ \\mathcal{L}v=\\max \\begin{pmatrix} w_0^T \\\\ \\hline w_1^T \\\\ \\vdots \\\\ \\hline w_M^T  \\end{pmatrix} $$ \n",
    "\n",
    "\n",
    "Rercuerde que todo lo anterior tiene sentido porque establecimos\n",
    "\n",
    "$$p(j|s,a)=0 \\quad \\text{y} \\quad r(s,a)=-\\infty$$ \n",
    "\n",
    "para todo $a\\notin \\mathcal{A}(s)$ i.e. siempre que $ s+a>M$. \n",
    "\n",
    "\n",
    "$$ $$"
   ]
  },
  {
   "cell_type": "markdown",
   "id": "99e2542b",
   "metadata": {},
   "source": [
    "#### Ejemplo con un ítem fijo"
   ]
  },
  {
   "cell_type": "markdown",
   "id": "790a4bcf",
   "metadata": {},
   "source": [
    "La ventaja de modelar el paso de optimización individual como un Proceso de Decisión de Markov es que las políticas óptimas de abastecimiento son de la forma\n",
    "\n",
    "π(s)={0Σ−as>σs≤σ \n",
    "\n",
    "Es decir,  Σ  y  σ  son los niveles máximo y mínimo de inventario óptimos para ese ítem. El proceso de iteración por valor nos dice cuales son"
   ]
  },
  {
   "cell_type": "code",
   "execution_count": 26,
   "id": "f32c65ad",
   "metadata": {},
   "outputs": [
    {
     "name": "stdout",
     "output_type": "stream",
     "text": [
      "10.168 500.0\n"
     ]
    }
   ],
   "source": [
    "random_item=inventory_df[(inventory_df['expected_daily_sales']>=8)&(inventory_df[\n",
    "'expected_daily_sales']<16)].sample(1)\n",
    "\n",
    "mu,price= random_item['expected_daily_sales'].values[0],random_item['price'].values[0]\n",
    "print(mu,price)"
   ]
  },
  {
   "cell_type": "code",
   "execution_count": 27,
   "id": "d7b552f9",
   "metadata": {},
   "outputs": [],
   "source": [
    "# Definimos la contracción a la cual le vamos a encontrar un casi punto fijo\n",
    "#L(v)=v\n",
    "# Acá v es un vector en R^M\n",
    "def L2(vector_rm,mu_item,price_item):\n",
    "    \"\"\"Función a la cual se le encuentra un punto fijo en el algoritmo\n",
    "    value iteration\"\"\"\n",
    "    vector_rm=vector_rm.reshape((M+1,1))\n",
    "    #Creamos una lista para almacenar los w_s\n",
    "    valores_maximos=[]\n",
    "    for inventory_level in range(M+1):\n",
    "        r_s=np.array([r(inventory_level,a,mu_item,price_item) for a in range(M+1)]).reshape((M+1,1))\n",
    "        p_s=np.array([[p(j,inventory_level,a,mu_item) for j in  range(M+1)]  for a in range(M+1)]).reshape((M+1,M+1))\n",
    "        if sum(np.matmul(p_s,np.ones((M+1,1))))<M-inventory_level:\n",
    "            print(sum(np.matmul(p_s,np.ones((M+1,1)))==1), 'Todo está mal')\n",
    "        valores_maximos.append(float(max(r_s+L*np.matmul(p_s,vector_rm))))\n",
    "\n",
    "    return np.array(valores_maximos).reshape((M+1,1))"
   ]
  },
  {
   "cell_type": "code",
   "execution_count": 28,
   "id": "b174e5b2",
   "metadata": {},
   "outputs": [
    {
     "name": "stdout",
     "output_type": "stream",
     "text": [
      "50 0.08405048632872081\n"
     ]
    }
   ],
   "source": [
    "#Elegimos un varEps pequeño\n",
    "VAR_EPS=10**-2\n",
    "#Se inicializa v0 en 0\n",
    "v_VI=np.zeros((M+1,1))\n",
    "#Iteramos hasta satisfacer el criterio de parada\n",
    "CONT=0\n",
    "vectoresVI=[]\n",
    "v_VINext=L2(v_VI,mu,price)\n",
    "#Condición que garantiza que estamos a epsilon de la política óptima real\n",
    "while norm(v_VI-v_VINext,ord=np.inf)>=VAR_EPS*(1-L)/(2*L):\n",
    "    vectoresVI.append(v_VI)\n",
    "    CONT+=1\n",
    "    if CONT%50==0:\n",
    "        print(CONT,norm(v_VI-v_VINext,ord=np.inf))\n",
    "    v_VI=v_VINext\n",
    "    v_VINext=L2(v_VI,mu,price)"
   ]
  },
  {
   "cell_type": "markdown",
   "id": "c2f38621",
   "metadata": {},
   "source": [
    "En la siguiente gráfica vemos como con cada iteración del algoritmo, la política obtenida se acerca cada vez más a la verdadera"
   ]
  },
  {
   "cell_type": "code",
   "execution_count": 29,
   "id": "53b2d3a0",
   "metadata": {},
   "outputs": [
    {
     "data": {
      "text/plain": [
       "[<matplotlib.lines.Line2D at 0x1ded2e55e80>]"
      ]
     },
     "execution_count": 29,
     "metadata": {},
     "output_type": "execute_result"
    },
    {
     "data": {
      "image/png": "[encoded data removed]",
      "text/plain": [
       "<Figure size 720x360 with 1 Axes>"
      ]
     },
     "metadata": {
      "needs_background": "light"
     },
     "output_type": "display_data"
    }
   ],
   "source": [
    "fig, ax = plt.subplots(figsize=(10,5))\n",
    "ax.set_title(r'Iteración por valor: $\\Vert vn-v*\\Vert_\\infty$',fontsize=20)\n",
    "ax.set_xlabel('n',fontsize=20)\n",
    "ax.set_ylabel(r'$\\Vert vn-v*\\Vert_\\infty$',fontsize=20)\n",
    "#ax.axhline(y=varEps*(1-L)/(2*L), c='red')\n",
    "#ax.legend(['Criterio de parada'])\n",
    "plt.plot([norm(v_VI-x,ord=np.inf) for x in vectoresVI])"
   ]
  },
  {
   "cell_type": "markdown",
   "id": "98efe866",
   "metadata": {},
   "source": [
    "Utilizando el $v$ óptimo obtenido, conseguimos la política óptima $\\pi$ "
   ]
  },
  {
   "cell_type": "code",
   "execution_count": 30,
   "id": "68852ef4",
   "metadata": {},
   "outputs": [],
   "source": [
    "mu_VI=np.zeros((M+1,1))\n",
    "for k in range(M+1):\n",
    "    #Diccionario en donde almacenamos {a: r(s,a)+ lambda sum p(j|s,a)v(j)}\n",
    "    dic_valores={}\n",
    "    for a in range(M-k+1):\n",
    "        x=L*np.array([[p(j,k,a,mu)] for j in range(M+1)])\n",
    "        valor=r(k,a,mu,price )+float(np.matmul(x.T,v_VI))\n",
    "        dic_valores[a]=valor\n",
    "    #Obtener la llave (el a) del diccionario donde el valor fue máximo y\n",
    "    # almacenarlo en el vector mu2 en la entrada s\n",
    "    mu_VI[k][0]=float(max(dic_valores, key=dic_valores.get))"
   ]
  },
  {
   "cell_type": "code",
   "execution_count": 31,
   "id": "fb8c69d7",
   "metadata": {},
   "outputs": [
    {
     "name": "stdout",
     "output_type": "stream",
     "text": [
      "Sigma mayúscula es  11.0  y sigma minúscula es  7\n"
     ]
    }
   ],
   "source": [
    "sigma_1,sigma_2=max(np.nonzero(mu_VI)[0]),float(max(mu_VI))\n",
    "print('Sigma mayúscula es ', sigma_2, ' y sigma minúscula es ', sigma_1)"
   ]
  },
  {
   "cell_type": "code",
   "execution_count": 32,
   "id": "6712000b",
   "metadata": {},
   "outputs": [],
   "source": [
    "def optimal_inventory_policy(inventory_level,sigma_uno,sigma_dos):\n",
    "    \"\"\"Cantidad optima de inventario a adquirir\"\"\"\n",
    "    if inventory_level>sigma_uno:\n",
    "        optimal_inventory= 0\n",
    "    else:\n",
    "        optimal_inventory= sigma_dos-inventory_level\n",
    "    return optimal_inventory\n"
   ]
  },
  {
   "cell_type": "code",
   "execution_count": 33,
   "id": "108bf7b2",
   "metadata": {},
   "outputs": [],
   "source": [
    "sigma_1,sigma_2=5,13\n",
    "MU=10\n",
    "\n",
    "DIAS_SIMULACION=10\n",
    "\n",
    "\n",
    "inventario_inicio_dia=[sigma_2]\n",
    "demanda_inicial=np.random.poisson(MU)\n",
    "demandas=[demanda_inicial]\n",
    "inventario_fin_dia=[sigma_2-demanda_inicial]\n",
    "T=0\n",
    "while T<DIAS_SIMULACION-1:\n",
    "    inventario_fin_dia_anterior=inventario_fin_dia[-1]\n",
    "    inventario_inicio_hoy=inventario_fin_dia_anterior+optimal_inventory_policy(\n",
    "    inventario_fin_dia_anterior,sigma_1,sigma_2)\n",
    "    inventario_inicio_dia.append(inventario_inicio_hoy)\n",
    "    demanda_hoy=np.random.poisson(MU)\n",
    "    demandas.append(demanda_hoy)\n",
    "    inventario_fin_dia.append(inventario_inicio_hoy-demanda_hoy)\n",
    "    T+=1"
   ]
  },
  {
   "cell_type": "code",
   "execution_count": 34,
   "id": "35ed5948",
   "metadata": {},
   "outputs": [
    {
     "data": {
      "text/plain": [
       "<matplotlib.legend.Legend at 0x1ded79aef70>"
      ]
     },
     "execution_count": 34,
     "metadata": {},
     "output_type": "execute_result"
    },
    {
     "data": {
      "image/png": "[encoded data removed]",
      "text/plain": [
       "<Figure size 720x360 with 1 Axes>"
      ]
     },
     "metadata": {
      "needs_background": "light"
     },
     "output_type": "display_data"
    }
   ],
   "source": [
    "#x_labels=['inventario_inicio_dia_{}'.format(i+1) for i in range(dias_simulacion)]\n",
    "fig,ax=plt.subplots(figsize=(10,5))\n",
    "ax.axhline(y=sigma_2,ls='--',color='red')\n",
    "ax.axhline(y=sigma_1,ls='--',color='red')\n",
    "ax.set_title('Simulación política óptima de abastecimiento',fontsize=20)\n",
    "#ax.set_xlabel(x_labels)\n",
    "for dia in range(DIAS_SIMULACION):\n",
    "    ax.plot(\n",
    "        [dia,dia+1],\n",
    "        [inventario_inicio_dia[dia],\n",
    "          inventario_fin_dia[dia]],\n",
    "        marker='o',color='blue')\n",
    "    if (inventario_inicio_dia[dia]==sigma_2) and dia>0:\n",
    "        ax.axvline(x=dia,\n",
    "\n",
    "                   ls='--',\n",
    "                   color='green')\n",
    "\n",
    "ax.legend([r'$\\Sigma$' , r'$\\sigma$', 'Nivel de inventario'])"
   ]
  },
  {
   "cell_type": "markdown",
   "id": "096f4489",
   "metadata": {},
   "source": [
    "#### Calculo para todos los ítems"
   ]
  },
  {
   "cell_type": "code",
   "execution_count": 36,
   "id": "75c7dc7a",
   "metadata": {},
   "outputs": [],
   "source": [
    "def calcular_sigmas(mu_item,price_item):\n",
    "    \"\"\"calcular en nivel maximo y minimo de inventario optimo\"\"\"\n",
    "    mu_vi=np.zeros((M+1,1))\n",
    "    for s in range(M+1):\n",
    "      #Diccionario en donde almacenamos {a: r(s,a)+ lambda sum p(j|s,a)v(j)}\n",
    "        valores={}\n",
    "        for a in range(M-s+1):\n",
    "            x=L*np.array([[p(j,s,a,mu_item)] for j in range(M+1)])\n",
    "            valor=r(s,a,mu_item,price_item )+float(np.matmul(x.T,v_VI))\n",
    "            valores[a]=valor\n",
    "      #Obtener la llave (el a) del diccionario donde el valor fue máximo y\n",
    "      # almacenarlo en el vector mu2 en la entrada s\n",
    "            mu_vi[s][0]=float(max(valores, key=valores.get))\n",
    "    try:\n",
    "        sigma_1,sigma_2=max(np.nonzero(mu_vi)[0]),float(max(mu_vi))\n",
    "    except ValueError:\n",
    "        sigma_1,sigma_2=mu_item-2,mu_item\n",
    "    return sigma_1,sigma_2"
   ]
  },
  {
   "cell_type": "code",
   "execution_count": 37,
   "id": "4a35295f",
   "metadata": {},
   "outputs": [],
   "source": [
    "sigma_1_list=[]\n",
    "sigma_2_list=[]\n",
    "for i,row in inventory_df.iterrows():\n",
    "    mu,price=row['expected_daily_sales'],row['price']\n",
    "    if 2<=mu<=M:\n",
    "        sigma_1_item,sigma_2_item=calcular_sigmas(mu,price)\n",
    "        sigma_1_list.append(sigma_1_item)\n",
    "        sigma_2_list.append(sigma_2_item)\n",
    "\n",
    "    elif M>mu:\n",
    "        sigma_1_list.append(mu-2)\n",
    "        sigma_2_list.append(mu)\n",
    "    else:\n",
    "        sigma_1_list.append(0)\n",
    "        sigma_2_list.append(1)"
   ]
  },
  {
   "cell_type": "code",
   "execution_count": 38,
   "id": "a162aa9f",
   "metadata": {},
   "outputs": [],
   "source": [
    "inventory_df['sigma_2']=sigma_2_list\n",
    "inventory_df['sigma_1']=sigma_1_list"
   ]
  },
  {
   "cell_type": "markdown",
   "id": "52de909c",
   "metadata": {},
   "source": [
    "## Sugerencia de abastecimiento para la canasta entera (Optimización conjunta)"
   ]
  },
  {
   "cell_type": "markdown",
   "id": "3010eb96",
   "metadata": {},
   "source": [
    "En esta sección usamos el output $\\sigma_i$ de la optimización pasada para resolver\n",
    "\n",
    "$$ (\\mathcal{I})  \\begin{cases} \\; \\begin{array} &\\operatorname{max}_{a\\in \\mathbb{R}^P} & \\sum^n_{i=1} \\mu_i p_i( a_i+s_i) \\\\ \\text{s.a.} & \\sum_{i=1}^P (s_i+a_i)\\leq M_{TOTAL}  \\\\&a_i\\in \\{\\sigma_i,\\sigma_i+1,\\sigma_i+2\\cdots\\} \\end{array}   \\end{cases}$$\n",
    "\n",
    "Esto lo haremos usando la librería PULP que sirve  para resolver una gran variedad de problemas de optimización con restricciones enteras."
   ]
  },
  {
   "cell_type": "code",
   "execution_count": 41,
   "id": "645d3d1b",
   "metadata": {},
   "outputs": [],
   "source": [
    "M_TOTAL=(M+800)*inventory_df.id.nunique()"
   ]
  },
  {
   "cell_type": "code",
   "execution_count": 42,
   "id": "8e183646",
   "metadata": {},
   "outputs": [],
   "source": [
    "def MILP_inventario(p_vector,mu_vector,s_vector,sigma_1_vector):\n",
    "    \"\"\"Recibe el vector de precios p, el vector de medias mu, el vector de estados\n",
    "    actuales de inventarios s y el vector de inventarios máximos sigma_2_vect.\n",
    "      Retorna el vector de cantidad de inventarios a abastecer: a\n",
    "    \"\"\"\n",
    "    num_items=mu_vect.shape[0]\n",
    "\n",
    "    # Creamos el problema\n",
    "    lp_problem = LpProblem(name='I_de_inventario_jeje',sense=LpMaximize)\n",
    "\n",
    "    #Creamos los diccionarios de variables continuas en [0,1] correspondientes a las c_j y y_i\n",
    "    a_var=LpVariable.dicts('a',indexs=range(num_items),lowBound=0,cat='Integer')\n",
    "\n",
    "    # Creamos la restricción de capacidad\n",
    "    print(M_TOTAL)\n",
    "    lp_problem+=(LpAffineExpression([(a_var[i],1) for i in a_var.keys()])<=M_TOTAL-s_vector.sum(),\n",
    "     'restriccion_capacidad_total')\n",
    "\n",
    "    #Creamos la restriccion de rango de inventario\n",
    "    for j in a_var.keys():\n",
    "        lp_problem+=(a_var[j]>=sigma_1_vector[j]-s_vector[j], f'restriccion_rango_{j}'.format(j=j))\n",
    "\n",
    "\n",
    "    #Ponemos una función objetivo\n",
    "\n",
    "\n",
    "    lp_problem+= LpAffineExpression([(a_var[i],p_vect[i]*mu_vector[i]) for i in a_var.keys() ])+ (\n",
    "    p_vector*mu_vector*s_vector).sum()\n",
    "\n",
    "    #Resolvemos el problema\n",
    "    status=lp_problem.solve()\n",
    "    print(LpStatus[status])\n",
    "    return np.array([a_var[i].value() for i in a_var.keys()])"
   ]
  },
  {
   "cell_type": "code",
   "execution_count": 43,
   "id": "65ba6544",
   "metadata": {},
   "outputs": [],
   "source": [
    "inventory_df_not_na= inventory_df[ (inventory_df['price'].notna()) &\n",
    "                                          (inventory_df['expected_daily_sales'].notna()) &\n",
    "                                         (inventory_df['available_quantity'].notna()) &\n",
    "                                         (inventory_df['sigma_1'].notna())\n",
    "                                         ]"
   ]
  },
  {
   "cell_type": "code",
   "execution_count": 44,
   "id": "ce6d8ea7",
   "metadata": {},
   "outputs": [],
   "source": [
    "p_vect,mu_vect,s_vect,sigma_1_vect=inventory_df_not_na['price'].values,inventory_df_not_na[\n",
    "'expected_daily_sales'].values,inventory_df_not_na[\n",
    "'available_quantity'].values,inventory_df_not_na['sigma_1'].values"
   ]
  },
  {
   "cell_type": "code",
   "execution_count": 45,
   "id": "565b08ec",
   "metadata": {},
   "outputs": [
    {
     "name": "stderr",
     "output_type": "stream",
     "text": [
      "C:\\Users\\57301\\AppData\\Local\\Temp/ipykernel_22108/1508691483.py:12: DeprecationWarning: 'indexs' is deprecated; use 'indices'.\n",
      "  a_var=LpVariable.dicts('a',indexs=range(num_items),lowBound=0,cat='Integer')\n"
     ]
    },
    {
     "name": "stdout",
     "output_type": "stream",
     "text": [
      "559240\n",
      "Optimal\n"
     ]
    }
   ],
   "source": [
    "optimal_inventory_adquisition=MILP_inventario(p_vect,mu_vect,s_vect,sigma_1_vect)"
   ]
  },
  {
   "cell_type": "code",
   "execution_count": 47,
   "id": "be6107ce",
   "metadata": {},
   "outputs": [
    {
     "data": {
      "text/plain": [
       "<matplotlib.legend.Legend at 0x1ded7c5ed30>"
      ]
     },
     "execution_count": 47,
     "metadata": {},
     "output_type": "execute_result"
    },
    {
     "data": {
      "image/png": "[encoded data removed]",
      "text/plain": [
       "<Figure size 720x360 with 1 Axes>"
      ]
     },
     "metadata": {
      "needs_background": "light"
     },
     "output_type": "display_data"
    }
   ],
   "source": [
    "fig,ax=plt.subplots(figsize=(10,5))\n",
    "\n",
    "inventory_df_not_na[(inventory_df_not_na['expected_daily_income']<0.4*10**6)&\n",
    "                      (inventory_df_not_na['sigma_1']>=inventory_df_not_na['available_quantity'])\n",
    "                    ].plot(x='expected_daily_income',\n",
    "                         y='sugerencia_abastecimiento',\n",
    "                         color='red',\n",
    "                         ax=ax,\n",
    "                         kind='scatter')\n",
    "\n",
    "inventory_df_not_na[(inventory_df_not_na['expected_daily_income']<0.4*10**6)&\n",
    "                      (inventory_df_not_na['sigma_1']<inventory_df_not_na['available_quantity'])\n",
    "                    ].plot(\n",
    "                         x='expected_daily_income',\n",
    "                         y='sugerencia_abastecimiento',\n",
    "                         color='green',\n",
    "                         ax=ax,\n",
    "                         kind='scatter'\n",
    "                         )\n",
    "\n",
    "ax.legend(['No Abastecidos','Abastecidos'])"
   ]
  }
 ],
 "metadata": {
  "kernelspec": {
   "display_name": "Python 3 (ipykernel)",
   "language": "python",
   "name": "python3"
  },
  "language_info": {
   "codemirror_mode": {
    "name": "ipython",
    "version": 3
   },
   "file_extension": ".py",
   "mimetype": "text/x-python",
   "name": "python",
   "nbconvert_exporter": "python",
   "pygments_lexer": "ipython3",
   "version": "3.9.7"
  }
 },
 "nbformat": 4,
 "nbformat_minor": 5
}
